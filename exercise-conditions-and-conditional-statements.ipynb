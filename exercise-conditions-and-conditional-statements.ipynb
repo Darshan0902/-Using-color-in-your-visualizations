{
 "cells": [
  {
   "cell_type": "markdown",
   "id": "6cf2eb5b",
   "metadata": {
    "papermill": {
     "duration": 0.011202,
     "end_time": "2023-05-09T20:46:13.128190",
     "exception": false,
     "start_time": "2023-05-09T20:46:13.116988",
     "status": "completed"
    },
    "tags": []
   },
   "source": [
    "**This notebook is an exercise in the [Intro to Programming](https://www.kaggle.com/learn/intro-to-programming) course.  You can reference the tutorial at [this link](https://www.kaggle.com/alexisbcook/conditions-and-conditional-statements).**\n",
    "\n",
    "---\n"
   ]
  },
  {
   "cell_type": "markdown",
   "id": "6d56d08a",
   "metadata": {
    "papermill": {
     "duration": 0.009247,
     "end_time": "2023-05-09T20:46:13.147179",
     "exception": false,
     "start_time": "2023-05-09T20:46:13.137932",
     "status": "completed"
    },
    "tags": []
   },
   "source": [
    "In the tutorial, you learned about conditions and conditional statements. In this exercise, you will use what you learned to answer several questions.\n",
    "\n",
    "# Set up the notebook\n",
    "\n",
    "Run the next code cell without changes to set up the notebook."
   ]
  },
  {
   "cell_type": "code",
   "execution_count": 1,
   "id": "a6735f45",
   "metadata": {
    "execution": {
     "iopub.execute_input": "2023-05-09T20:46:13.167244Z",
     "iopub.status.busy": "2023-05-09T20:46:13.166889Z",
     "iopub.status.idle": "2023-05-09T20:46:13.212095Z",
     "shell.execute_reply": "2023-05-09T20:46:13.211127Z"
    },
    "papermill": {
     "duration": 0.058244,
     "end_time": "2023-05-09T20:46:13.214617",
     "exception": false,
     "start_time": "2023-05-09T20:46:13.156373",
     "status": "completed"
    },
    "tags": []
   },
   "outputs": [
    {
     "name": "stdout",
     "output_type": "stream",
     "text": [
      "Setup complete.\n"
     ]
    }
   ],
   "source": [
    "from learntools.core import binder\n",
    "binder.bind(globals())\n",
    "from learntools.intro_to_programming.ex4 import *\n",
    "print('Setup complete.')"
   ]
  },
  {
   "cell_type": "markdown",
   "id": "07b2a13c",
   "metadata": {
    "papermill": {
     "duration": 0.008298,
     "end_time": "2023-05-09T20:46:13.231954",
     "exception": false,
     "start_time": "2023-05-09T20:46:13.223656",
     "status": "completed"
    },
    "tags": []
   },
   "source": [
    "# Question 1\n",
    "\n",
    "You work at a college admissions office.  When inspecting a dataset of college applicants, you notice that some students have represented their grades with letters (`\"A\"`, `\"B\"`, `\"C\"`, `\"D\"`, `\"F\"`), whereas others have represented their grades with a number between 0 and 100.\n",
    "\n",
    "You realize that for consistency, all of the grades should be formatted in the same way, and you decide to format them all as letters.  For the conversion, you decide to assign:\n",
    "- `\"A\"` - any grade 90-100, inclusive\n",
    "- `\"B\"` - any grade 80-89, inclusive\n",
    "- `\"C\"` - any grade 70-79, inclusive\n",
    "- `\"D\"` - any grade 60-69, inclusive\n",
    "- `\"F\"` - any grade <60\n",
    "\n",
    "Write a function `get_grade()` that takes as input:\n",
    "- `score` - an integer 0-100 corresponding to a numerical grade\n",
    "\n",
    "It should return a Python string with the letter grade that it corresponds to.  For instance,\n",
    "- A score of 85 corresponds to a B grade.  In other words, `get_grade(85)` should return `\"B\"`.\n",
    "- A score of 49 corresponds to an F grade.  In other words, `get_grade(49)` should return `\"F\"`.\n",
    "\n",
    "Make sure that when supplying the grade that is returned by the function, it is enclosed in quotes.  (For instance, if you want to return `\"A\"`, you should write `return \"A\"` and not `return A`.)"
   ]
  },
  {
   "cell_type": "code",
   "execution_count": 2,
   "id": "0b8ca641",
   "metadata": {
    "execution": {
     "iopub.execute_input": "2023-05-09T20:46:13.252147Z",
     "iopub.status.busy": "2023-05-09T20:46:13.250868Z",
     "iopub.status.idle": "2023-05-09T20:46:13.262999Z",
     "shell.execute_reply": "2023-05-09T20:46:13.262115Z"
    },
    "papermill": {
     "duration": 0.024533,
     "end_time": "2023-05-09T20:46:13.265078",
     "exception": false,
     "start_time": "2023-05-09T20:46:13.240545",
     "status": "completed"
    },
    "tags": []
   },
   "outputs": [
    {
     "data": {
      "application/javascript": [
       "parent.postMessage({\"jupyterEvent\": \"custom.exercise_interaction\", \"data\": {\"outcomeType\": 1, \"valueTowardsCompletion\": 0.2, \"interactionType\": 1, \"questionType\": 2, \"questionId\": \"1_GetGrade\", \"learnToolsVersion\": \"0.3.4\", \"failureMessage\": \"\", \"exceptionClass\": \"\", \"trace\": \"\"}}, \"*\")"
      ],
      "text/plain": [
       "<IPython.core.display.Javascript object>"
      ]
     },
     "metadata": {},
     "output_type": "display_data"
    },
    {
     "data": {
      "text/markdown": [
       "<span style=\"color:#33cc33\">Correct</span>"
      ],
      "text/plain": [
       "Correct"
      ]
     },
     "metadata": {},
     "output_type": "display_data"
    }
   ],
   "source": [
    "def get_grade(score):\n",
    "    if score >= 90:\n",
    "        grade = \"A\"\n",
    "    elif score >= 80:\n",
    "        grade = \"B\"\n",
    "    elif score >= 70:\n",
    "        grade = \"C\"\n",
    "    elif score >= 60:\n",
    "        grade = \"D\"\n",
    "    else:\n",
    "        grade = \"F\"\n",
    "    return grade\n",
    "\n",
    "q1.check()"
   ]
  },
  {
   "cell_type": "code",
   "execution_count": 3,
   "id": "97b1c256",
   "metadata": {
    "execution": {
     "iopub.execute_input": "2023-05-09T20:46:13.286340Z",
     "iopub.status.busy": "2023-05-09T20:46:13.285073Z",
     "iopub.status.idle": "2023-05-09T20:46:13.290419Z",
     "shell.execute_reply": "2023-05-09T20:46:13.289631Z"
    },
    "papermill": {
     "duration": 0.017761,
     "end_time": "2023-05-09T20:46:13.292546",
     "exception": false,
     "start_time": "2023-05-09T20:46:13.274785",
     "status": "completed"
    },
    "tags": []
   },
   "outputs": [],
   "source": [
    "# Uncomment to see a hint\n",
    "#q1.hint()\n",
    "\n",
    "# Uncomment to see the solution\n",
    "#q1.solution()"
   ]
  },
  {
   "cell_type": "markdown",
   "id": "08f34ba4",
   "metadata": {
    "papermill": {
     "duration": 0.008712,
     "end_time": "2023-05-09T20:46:13.310205",
     "exception": false,
     "start_time": "2023-05-09T20:46:13.301493",
     "status": "completed"
    },
    "tags": []
   },
   "source": [
    "# Question 2\n",
    "\n",
    "In the exercise for the previous lesson, you wrote a function `cost_of_project()` that estimated the price of rings for an online shop that sells rings with custom engravings.  This function did not use conditional statements.  In this exercise, you will rewrite the function to use conditional statements.  Recall that the online shop has the following price structure:\n",
    "- Gold plated rings have a base cost of \\\\$50, and you charge \\\\$7 per engraved unit.  \n",
    "- Solid gold rings have a base cost of \\\\$100, and you charge \\\\$10 per engraved unit.\n",
    "- Spaces and punctuation are counted as engraved units.\n",
    "\n",
    "Your function `cost_of_project()` takes two arguments:\n",
    "- `engraving` - a Python string with the text of the engraving\n",
    "- `solid_gold` - a Boolean that indicates whether the ring is solid gold\n",
    "\n",
    "It should return the cost of the project.  \n",
    "\n",
    "The function has been partially completed for you, and you need to fill in the blanks to complete the function."
   ]
  },
  {
   "cell_type": "code",
   "execution_count": 4,
   "id": "0dfb367a",
   "metadata": {
    "execution": {
     "iopub.execute_input": "2023-05-09T20:46:13.329965Z",
     "iopub.status.busy": "2023-05-09T20:46:13.329574Z",
     "iopub.status.idle": "2023-05-09T20:46:13.340185Z",
     "shell.execute_reply": "2023-05-09T20:46:13.338972Z"
    },
    "papermill": {
     "duration": 0.023415,
     "end_time": "2023-05-09T20:46:13.342569",
     "exception": false,
     "start_time": "2023-05-09T20:46:13.319154",
     "status": "completed"
    },
    "tags": []
   },
   "outputs": [
    {
     "data": {
      "application/javascript": [
       "parent.postMessage({\"jupyterEvent\": \"custom.exercise_interaction\", \"data\": {\"outcomeType\": 1, \"valueTowardsCompletion\": 0.2, \"interactionType\": 1, \"questionType\": 2, \"questionId\": \"2_CostProjectPartDeux\", \"learnToolsVersion\": \"0.3.4\", \"failureMessage\": \"\", \"exceptionClass\": \"\", \"trace\": \"\"}}, \"*\")"
      ],
      "text/plain": [
       "<IPython.core.display.Javascript object>"
      ]
     },
     "metadata": {},
     "output_type": "display_data"
    },
    {
     "data": {
      "text/markdown": [
       "<span style=\"color:#33cc33\">Correct</span>"
      ],
      "text/plain": [
       "Correct"
      ]
     },
     "metadata": {},
     "output_type": "display_data"
    }
   ],
   "source": [
    "def cost_of_project(engraving, solid_gold):\n",
    "    if solid_gold == True:\n",
    "        cost = 100+(10*len(engraving))\n",
    "    else:\n",
    "        cost = 50+(7*len(engraving))\n",
    "    return cost\n",
    "\n",
    "# Check your answer\n",
    "q2.check()"
   ]
  },
  {
   "cell_type": "code",
   "execution_count": 5,
   "id": "0bd333e3",
   "metadata": {
    "execution": {
     "iopub.execute_input": "2023-05-09T20:46:13.363056Z",
     "iopub.status.busy": "2023-05-09T20:46:13.362669Z",
     "iopub.status.idle": "2023-05-09T20:46:13.367527Z",
     "shell.execute_reply": "2023-05-09T20:46:13.366179Z"
    },
    "papermill": {
     "duration": 0.018072,
     "end_time": "2023-05-09T20:46:13.369891",
     "exception": false,
     "start_time": "2023-05-09T20:46:13.351819",
     "status": "completed"
    },
    "tags": []
   },
   "outputs": [],
   "source": [
    "# Uncomment to see a hint\n",
    "#q2.hint()\n",
    "\n",
    "# Uncomment to see the solution\n",
    "#q2.solution()"
   ]
  },
  {
   "cell_type": "markdown",
   "id": "843c420d",
   "metadata": {
    "papermill": {
     "duration": 0.0096,
     "end_time": "2023-05-09T20:46:13.388824",
     "exception": false,
     "start_time": "2023-05-09T20:46:13.379224",
     "status": "completed"
    },
    "tags": []
   },
   "source": [
    "# Question 3\n",
    "\n",
    "You are a programmer at a water agency.  Recently, you have been tasked to write a function `get_water_bill()` that takes as input:\n",
    "- `num_gallons` = the number of gallons of water that a customer used that month.  (This will always be an integer with no decimal part.)\n",
    "\n",
    "It should output the water bill.  \n",
    "\n",
    "The water agency uses this pricing structure:\n",
    "<table style=\"width: 100%;\">\n",
    "<tbody>\n",
    "<tr><th><b>Tier</b></th><th><b>Amount in gallons</b></th><th><b>Price per 1000 gallons</b></th></tr>\n",
    "<tr>\n",
    "<td>Tier 1</td>\n",
    "<td>0 - 8,000</td>\n",
    "<td>\\$5</td>\n",
    "</tr>\n",
    "<tr>\n",
    "<td>Tier 2</td>\n",
    "<td>8,001 - 22,000</td>\n",
    "<td>\\$6</td>\n",
    "</tr>\n",
    "<tr>\n",
    "<td>Tier 3</td>\n",
    "<td>22,001 - 30,000</td>\n",
    "<td>\\$7</td>\n",
    "</tr>\n",
    "<tr>\n",
    "<td>Tier 4</td>\n",
    "<td>30,001+</td>\n",
    "<td>\\$10</td>\n",
    "</tr>\n",
    "</tbody>\n",
    "</table>\n",
    "\n",
    "For example: \n",
    "- Someone who uses 10,000 gallons of water in a month is placed in Tier 2, and needs to pay a water bill of \\\\$6 * 10 = \\\\$60.  In other words, `get_water_bill(10000)` should return `60.0`.\n",
    "- Someone who uses 25,000 gallons of water in a month is placed in Tier 3, and needs to pay a water bill of \\\\$7 * 25 = \\\\$175.  In other words, `get_water_bill(25000)` should return `175.0`.\n",
    "\n",
    "**Do not round your answer.**  So, your answer might return fractions of a penny."
   ]
  },
  {
   "cell_type": "code",
   "execution_count": 6,
   "id": "a365b33b",
   "metadata": {
    "execution": {
     "iopub.execute_input": "2023-05-09T20:46:13.412982Z",
     "iopub.status.busy": "2023-05-09T20:46:13.412465Z",
     "iopub.status.idle": "2023-05-09T20:46:13.425834Z",
     "shell.execute_reply": "2023-05-09T20:46:13.423903Z"
    },
    "papermill": {
     "duration": 0.026898,
     "end_time": "2023-05-09T20:46:13.428368",
     "exception": false,
     "start_time": "2023-05-09T20:46:13.401470",
     "status": "completed"
    },
    "tags": []
   },
   "outputs": [
    {
     "data": {
      "application/javascript": [
       "parent.postMessage({\"jupyterEvent\": \"custom.exercise_interaction\", \"data\": {\"outcomeType\": 3, \"exceptionClass\": \"UnboundLocalError\", \"trace\": \"  File \\\"/opt/conda/lib/python3.10/site-packages/learntools/core/problem.py\\\", line 239, in check\\n    actual = fn(*args)\\n\\n  File \\\"/tmp/ipykernel_19/3147816244.py\\\", line 6, in get_water_bill\\n    return bill\\n\", \"failureMessage\": \"When calling your function with arguments `[9000]`, Python raised the following exception... **`UnboundLocalError: local variable 'bill' referenced before assignment`**\", \"interactionType\": 1, \"questionType\": 2, \"questionId\": \"3_GetWaterBill\", \"learnToolsVersion\": \"0.3.4\", \"valueTowardsCompletion\": 0.0}}, \"*\")"
      ],
      "text/plain": [
       "<IPython.core.display.Javascript object>"
      ]
     },
     "metadata": {},
     "output_type": "display_data"
    },
    {
     "data": {
      "text/markdown": [
       "<span style=\"color:#cc3333\">Incorrect:</span> When calling your function with arguments `[9000]`, Python raised the following exception... **`UnboundLocalError: local variable 'bill' referenced before assignment`**"
      ],
      "text/plain": [
       "Incorrect: When calling your function with arguments `[9000]`, Python raised the following exception... **`UnboundLocalError: local variable 'bill' referenced before assignment`**"
      ]
     },
     "metadata": {},
     "output_type": "display_data"
    }
   ],
   "source": [
    "# TODO: Edit the function to return the correct bill for different\n",
    "# values of num_gallons\n",
    "def get_water_bill(num_gallons):\n",
    "    if num_gallons <= 8000:\n",
    "        bill = num_gallons*5/1000\n",
    "    return bill\n",
    "\n",
    "# Check your answer\n",
    "q3.check()"
   ]
  },
  {
   "cell_type": "code",
   "execution_count": 7,
   "id": "ea831b92",
   "metadata": {
    "execution": {
     "iopub.execute_input": "2023-05-09T20:46:13.453182Z",
     "iopub.status.busy": "2023-05-09T20:46:13.452535Z",
     "iopub.status.idle": "2023-05-09T20:46:13.458278Z",
     "shell.execute_reply": "2023-05-09T20:46:13.457127Z"
    },
    "papermill": {
     "duration": 0.021376,
     "end_time": "2023-05-09T20:46:13.461544",
     "exception": false,
     "start_time": "2023-05-09T20:46:13.440168",
     "status": "completed"
    },
    "tags": []
   },
   "outputs": [],
   "source": [
    "# Uncomment to see a hint\n",
    "#q3.hint()\n",
    "\n",
    "# Uncomment to see the solution\n",
    "#q3.solution()"
   ]
  },
  {
   "cell_type": "markdown",
   "id": "a4c88449",
   "metadata": {
    "papermill": {
     "duration": 0.011391,
     "end_time": "2023-05-09T20:46:13.487393",
     "exception": false,
     "start_time": "2023-05-09T20:46:13.476002",
     "status": "completed"
    },
    "tags": []
   },
   "source": [
    "# Question 4\n",
    "\n",
    "You work for a company that provides data services.  For \\\\$100/month, your company provides 15 gigabytes (GB) of data.  Then, any additional data is billed at \\\\$0.10/MB (or \\\\$100/GB, since 1,000 MB are in 1 GB).\n",
    "\n",
    "Use the next code cell to write a function `get_phone_bill()` that takes as input:\n",
    "- `gb` = number of GB that the customer used in a month\n",
    "\n",
    "It should return the customer's total phone bill.\n",
    "\n",
    "For instance:\n",
    "- A customer who uses 10 GB of data in one month is billed only \\\\$100, since the usage stayed under 15 GB.  In other words, `get_phone_bill(10)` should return `100`.\n",
    "- A customer who uses 15.1 GB (or 15 GB + 100 MB) of data in one month has gone over by .1 GB, so they must pay \\\\$100 (cost of plan), plus \\\\$0.10 * 100 = \\\\$10, for a total bill of \\\\$110.  In other words, `get_phone_bill(15.1)` should return `110`.\n",
    "\n",
    "Do not round your answer."
   ]
  },
  {
   "cell_type": "code",
   "execution_count": 8,
   "id": "14b957aa",
   "metadata": {
    "execution": {
     "iopub.execute_input": "2023-05-09T20:46:13.510584Z",
     "iopub.status.busy": "2023-05-09T20:46:13.510107Z",
     "iopub.status.idle": "2023-05-09T20:46:13.520052Z",
     "shell.execute_reply": "2023-05-09T20:46:13.519084Z"
    },
    "papermill": {
     "duration": 0.024498,
     "end_time": "2023-05-09T20:46:13.522367",
     "exception": false,
     "start_time": "2023-05-09T20:46:13.497869",
     "status": "completed"
    },
    "tags": []
   },
   "outputs": [
    {
     "data": {
      "application/javascript": [
       "parent.postMessage({\"jupyterEvent\": \"custom.exercise_interaction\", \"data\": {\"outcomeType\": 2, \"failureMessage\": \"Expected return value of `150.0` given `gb=15.5`, but got `100` instead.\", \"interactionType\": 1, \"questionType\": 2, \"questionId\": \"4_GetPhoneBill\", \"learnToolsVersion\": \"0.3.4\", \"valueTowardsCompletion\": 0.0, \"exceptionClass\": \"\", \"trace\": \"\"}}, \"*\")"
      ],
      "text/plain": [
       "<IPython.core.display.Javascript object>"
      ]
     },
     "metadata": {},
     "output_type": "display_data"
    },
    {
     "data": {
      "text/markdown": [
       "<span style=\"color:#cc3333\">Incorrect:</span> Expected return value of `150.0` given `gb=15.5`, but got `100` instead."
      ],
      "text/plain": [
       "Incorrect: Expected return value of `150.0` given `gb=15.5`, but got `100` instead."
      ]
     },
     "metadata": {},
     "output_type": "display_data"
    }
   ],
   "source": [
    "# TODO: Edit the function to return the correct bill for different\n",
    "# values of GB\n",
    "def get_phone_bill(gb):\n",
    "    bill = 100\n",
    "    return bill\n",
    "\n",
    "# Check your answer\n",
    "q4.check()"
   ]
  },
  {
   "cell_type": "code",
   "execution_count": 9,
   "id": "6293c4a8",
   "metadata": {
    "execution": {
     "iopub.execute_input": "2023-05-09T20:46:13.547176Z",
     "iopub.status.busy": "2023-05-09T20:46:13.546314Z",
     "iopub.status.idle": "2023-05-09T20:46:13.551033Z",
     "shell.execute_reply": "2023-05-09T20:46:13.550064Z"
    },
    "papermill": {
     "duration": 0.019876,
     "end_time": "2023-05-09T20:46:13.553488",
     "exception": false,
     "start_time": "2023-05-09T20:46:13.533612",
     "status": "completed"
    },
    "tags": []
   },
   "outputs": [],
   "source": [
    "# Uncomment to see a hint\n",
    "#q4.hint()\n",
    "\n",
    "# Uncomment to see the solution\n",
    "#q4.solution()"
   ]
  },
  {
   "cell_type": "markdown",
   "id": "79da4f39",
   "metadata": {
    "papermill": {
     "duration": 0.01254,
     "end_time": "2023-05-09T20:46:13.576954",
     "exception": false,
     "start_time": "2023-05-09T20:46:13.564414",
     "status": "completed"
    },
    "tags": []
   },
   "source": [
    "# 🌶️ Question 5\n",
    "\n",
    "In Mexico, foods and beverages that are high in saturated fat, trans fat, sugar, sodium, and/or calories appear with warning labels that are designed to help consumers make healthy food choices.\n",
    "\n",
    "For instance, the [box of cookies](https://world.openfoodfacts.org/product/7501000673209/florentinas-gamesa) in the image below appears with two labels (in the upper right corner):\n",
    "- EXCESO CALORÍAS (in English, EXCESS CALORIES)\n",
    "- EXCESO AZÚCARES (in English, EXCESS SUGAR)\n",
    "\n",
    "<center><img src=\"https://storage.googleapis.com/kaggle-media/learn/images/VXYKHnM.png\" alt=\"drawing\" width=\"500\"/></center>\n",
    "\n",
    "In this question, you'll work with a function `get_labels()` that takes the nutritional details about a food item and prints the needed warning labels.  This function takes several inputs:\n",
    "- `food_type` = one of `\"solid\"` or `\"liquid\"`\n",
    "- `serving_size` = size of one serving (if solid, in grams; if liquid, in milliliters)\n",
    "- `calories_per_serving` = calories in one serving\n",
    "- `saturated_fat_g` = grams of saturated fat in one serving\n",
    "- `trans_fat_g` = grams of trans fat in one serving\n",
    "- `sodium_mg` = mg of sodium in one serving\n",
    "- `sugars_g` = grams of sugar in one serving\n",
    "\n",
    "Note that some of the code here should feel unfamiliar to you, since we have not shared the details of how some of the functions like `excess_sugar()` or `excess_saturated_fat()` work.  But at a high level, these are functions that return a value of `True` if the food is deemed to have an excess of sugar or saturated fat, respectively.  These functions are used within the `get_labels()` function, and whenever there is an excess (of sugar or saturated fat, but also of trans fat, sodium, or calories), it prints the corresponding label."
   ]
  },
  {
   "cell_type": "code",
   "execution_count": 10,
   "id": "2bd2af4f",
   "metadata": {
    "execution": {
     "iopub.execute_input": "2023-05-09T20:46:13.604125Z",
     "iopub.status.busy": "2023-05-09T20:46:13.602910Z",
     "iopub.status.idle": "2023-05-09T20:46:13.614007Z",
     "shell.execute_reply": "2023-05-09T20:46:13.613017Z"
    },
    "papermill": {
     "duration": 0.026628,
     "end_time": "2023-05-09T20:46:13.617264",
     "exception": false,
     "start_time": "2023-05-09T20:46:13.590636",
     "status": "completed"
    },
    "tags": []
   },
   "outputs": [],
   "source": [
    "# import functions needed to make get_labels work\n",
    "from learntools.intro_to_programming.ex4q5 import excess_sugar, excess_saturated_fat, excess_trans_fat, excess_sodium, excess_calories\n",
    "\n",
    "def get_labels(food_type, serving_size, calories_per_serving, saturated_fat_g, trans_fat_g, sodium_mg, sugars_g):\n",
    "    # Print messages based on findings\n",
    "    if excess_sugar(sugars_g, calories_per_serving) == True:\n",
    "        print(\"EXCESO AZÚCARES / EXCESS SUGAR\")\n",
    "    if excess_saturated_fat(saturated_fat_g, calories_per_serving) == True:\n",
    "        print(\"EXCESO GRASAS SATURADAS / EXCESS SATURATED FAT\")\n",
    "    if excess_trans_fat(trans_fat_g, calories_per_serving) == True:\n",
    "        print(\"EXCESO GRASAS TRANS / EXCESS TRANS FAT\")\n",
    "    if excess_sodium(calories_per_serving, sodium_mg) == True:\n",
    "        print(\"EXCESO SODIO / EXCESS SODIUM\")\n",
    "    if excess_calories(food_type, calories_per_serving, serving_size) == True:\n",
    "        print(\"EXCESO CALORÍAS / EXCESS CALORIES\")"
   ]
  },
  {
   "cell_type": "markdown",
   "id": "e0ec0610",
   "metadata": {
    "papermill": {
     "duration": 0.010611,
     "end_time": "2023-05-09T20:46:13.638877",
     "exception": false,
     "start_time": "2023-05-09T20:46:13.628266",
     "status": "completed"
    },
    "tags": []
   },
   "source": [
    "The next code cell demonstrates how to use `get_labels()` to get the warning labels that the food item should contain.  We begin with [bologna](https://world.openfoodfacts.org/product/4099100179378/bologna).  Here is [an image](https://storage.googleapis.com/kaggle-media/learn/images/Cfcx72e) with all of the nutritional information.  Note that for this food,\n",
    "- `food_type = \"solid\"` (because bologna is a solid and not a liquid)\n",
    "- `serving_size = 32` (the serving size is 32 grams)\n",
    "- `calories_per_serving = 110` (there are 110 calories per serving)\n",
    "- `saturated_fat_g = 2.5` (there are 2.5 grams of saturated fat per serving)\n",
    "- `trans_fat_g = 0` (there are 0 grams of trans fat per serving)\n",
    "- `sodium_mg = 400` (there are 400 mg of sodium per serving)\n",
    "- `sugars_g = 1` (the nutrition facts say <1g, but we will round it up to 1 gram per serving to be safe)\n",
    "\n",
    "By supplying all of these values to the function, we can print the warning labels."
   ]
  },
  {
   "cell_type": "code",
   "execution_count": 11,
   "id": "ba3c9c3d",
   "metadata": {
    "execution": {
     "iopub.execute_input": "2023-05-09T20:46:13.662631Z",
     "iopub.status.busy": "2023-05-09T20:46:13.661760Z",
     "iopub.status.idle": "2023-05-09T20:46:13.668866Z",
     "shell.execute_reply": "2023-05-09T20:46:13.667384Z"
    },
    "papermill": {
     "duration": 0.021741,
     "end_time": "2023-05-09T20:46:13.671235",
     "exception": false,
     "start_time": "2023-05-09T20:46:13.649494",
     "status": "completed"
    },
    "tags": []
   },
   "outputs": [
    {
     "name": "stdout",
     "output_type": "stream",
     "text": [
      "EXCESO GRASAS SATURADAS / EXCESS SATURATED FAT\n",
      "EXCESO SODIO / EXCESS SODIUM\n",
      "EXCESO CALORÍAS / EXCESS CALORIES\n"
     ]
    }
   ],
   "source": [
    "# bologna https://world.openfoodfacts.org/product/4099100179378/bologna\n",
    "get_labels(\"solid\", 32, 110, 2.5, 0, 400, 1)"
   ]
  },
  {
   "cell_type": "markdown",
   "id": "9936b251",
   "metadata": {
    "papermill": {
     "duration": 0.010324,
     "end_time": "2023-05-09T20:46:13.692516",
     "exception": false,
     "start_time": "2023-05-09T20:46:13.682192",
     "status": "completed"
    },
    "tags": []
   },
   "source": [
    "This bologna has three labels, printed in the output above.\n",
    "\n",
    "For the rest of this question, you will use the same `get_labels()` function to determine the labels for more foods.  This question is designed to help you get practice with feeling comfortable with code that other people have written, and where you don't have time to review every single line of code before interacting with it.  For instance, when you take the [Intro to Machine Learning course](http://www.kaggle.com/learn/intro-to-machine-learning), you'll work with a Python package called \"scikit-learn\", which is a large collection of code that you'll learn how to run without reviewing all of the code in detail (as it would take too long, and you can trust that it was implemented correctly).\n",
    "\n",
    "In general, as you continue coding in Python, you will often be running code that other people have written.  This is common practice for advanced programmers.\n",
    "\n",
    "In the next code cell, fill in the values for [this cereal](https://world.openfoodfacts.org/product/7501008023624/zucaritas-kellogg-s).  Here is [an image](https://storage.googleapis.com/kaggle-media/learn/images/MUxzHVU) with all of the nutritional information.\n",
    "\n",
    "**Note**: running the line of code below as-is will return an error.  You have to fill in the nutritional values first."
   ]
  },
  {
   "cell_type": "code",
   "execution_count": 12,
   "id": "3bca7340",
   "metadata": {
    "execution": {
     "iopub.execute_input": "2023-05-09T20:46:13.716653Z",
     "iopub.status.busy": "2023-05-09T20:46:13.715900Z",
     "iopub.status.idle": "2023-05-09T20:46:13.720508Z",
     "shell.execute_reply": "2023-05-09T20:46:13.719517Z"
    },
    "papermill": {
     "duration": 0.029109,
     "end_time": "2023-05-09T20:46:13.732329",
     "exception": false,
     "start_time": "2023-05-09T20:46:13.703220",
     "status": "completed"
    },
    "tags": []
   },
   "outputs": [],
   "source": [
    "# zucaritas cereal https://world.openfoodfacts.org/product/7501008023624/zucaritas-kellogg-s\n",
    "# TODO: Uncomment the line below, fill in the values, and run the function\n",
    "#get_labels()"
   ]
  },
  {
   "cell_type": "markdown",
   "id": "ca550b4d",
   "metadata": {
    "papermill": {
     "duration": 0.014185,
     "end_time": "2023-05-09T20:46:13.761105",
     "exception": false,
     "start_time": "2023-05-09T20:46:13.746920",
     "status": "completed"
    },
    "tags": []
   },
   "source": [
    "Next, try [these mozzarella sticks](https://world-es.openfoodfacts.org/producto/0062325540104/mozzarella-cheese-sticks).  Here is [an image](https://storage.googleapis.com/kaggle-media/learn/images/rcdB7VH) with all of the nutritional information."
   ]
  },
  {
   "cell_type": "code",
   "execution_count": 13,
   "id": "53ce28e5",
   "metadata": {
    "execution": {
     "iopub.execute_input": "2023-05-09T20:46:13.787382Z",
     "iopub.status.busy": "2023-05-09T20:46:13.786423Z",
     "iopub.status.idle": "2023-05-09T20:46:13.791600Z",
     "shell.execute_reply": "2023-05-09T20:46:13.790232Z"
    },
    "papermill": {
     "duration": 0.02053,
     "end_time": "2023-05-09T20:46:13.794086",
     "exception": false,
     "start_time": "2023-05-09T20:46:13.773556",
     "status": "completed"
    },
    "tags": []
   },
   "outputs": [],
   "source": [
    "# mozzarella sticks https://world-es.openfoodfacts.org/producto/0062325540104/mozzarella-cheese-sticks\n",
    "# TODO: Uncomment the line below, fill in the values, and run the function\n",
    "#get_labels()"
   ]
  },
  {
   "cell_type": "markdown",
   "id": "633c8416",
   "metadata": {
    "papermill": {
     "duration": 0.014283,
     "end_time": "2023-05-09T20:46:13.819396",
     "exception": false,
     "start_time": "2023-05-09T20:46:13.805113",
     "status": "completed"
    },
    "tags": []
   },
   "source": [
    "Feel free to skip to the end of the notebook now and run `q5.check()` to complete the exercise.  If you want to try more foods, \n",
    "- try [these cookies](https://world.openfoodfacts.org/product/0069700118545/biscuits-au-sucre-pretraches).  Here is [an image](https://storage.googleapis.com/kaggle-media/learn/images/2Bc271o) with all of the nutritional information.\n",
    "- try [this soda](https://world-es.openfoodfacts.org/producto/0078000113464/orange-soda-sunkist).  Here is [an image](https://storage.googleapis.com/kaggle-media/learn/images/RsBYa8E) with all of the nutritional information.\n",
    "\n",
    "Use the two code cells below for this."
   ]
  },
  {
   "cell_type": "code",
   "execution_count": 14,
   "id": "0fc40a42",
   "metadata": {
    "execution": {
     "iopub.execute_input": "2023-05-09T20:46:13.847432Z",
     "iopub.status.busy": "2023-05-09T20:46:13.844685Z",
     "iopub.status.idle": "2023-05-09T20:46:13.854479Z",
     "shell.execute_reply": "2023-05-09T20:46:13.852801Z"
    },
    "papermill": {
     "duration": 0.025618,
     "end_time": "2023-05-09T20:46:13.857604",
     "exception": false,
     "start_time": "2023-05-09T20:46:13.831986",
     "status": "completed"
    },
    "tags": []
   },
   "outputs": [],
   "source": [
    "# pillsbury cookies https://world.openfoodfacts.org/product/0069700118545/biscuits-au-sucre-pretraches\n",
    "# TODO: Uncomment the line below, fill in the values, and run the function\n",
    "#get_labels()"
   ]
  },
  {
   "cell_type": "code",
   "execution_count": 15,
   "id": "860bf223",
   "metadata": {
    "execution": {
     "iopub.execute_input": "2023-05-09T20:46:13.882043Z",
     "iopub.status.busy": "2023-05-09T20:46:13.881420Z",
     "iopub.status.idle": "2023-05-09T20:46:13.886310Z",
     "shell.execute_reply": "2023-05-09T20:46:13.885282Z"
    },
    "papermill": {
     "duration": 0.019818,
     "end_time": "2023-05-09T20:46:13.888478",
     "exception": false,
     "start_time": "2023-05-09T20:46:13.868660",
     "status": "completed"
    },
    "tags": []
   },
   "outputs": [],
   "source": [
    "# sunkist orange soda https://world-es.openfoodfacts.org/producto/0078000113464/orange-soda-sunkist\n",
    "# TODO: Uncomment the line below, fill in the values, and run the function\n",
    "#get_labels()"
   ]
  },
  {
   "cell_type": "markdown",
   "id": "1c972a88",
   "metadata": {
    "papermill": {
     "duration": 0.009903,
     "end_time": "2023-05-09T20:46:13.908524",
     "exception": false,
     "start_time": "2023-05-09T20:46:13.898621",
     "status": "completed"
    },
    "tags": []
   },
   "source": [
    "Once you have finished investigating the food items in this question, run the final code cell to get credit for completing this problem."
   ]
  },
  {
   "cell_type": "code",
   "execution_count": 16,
   "id": "b907c1d0",
   "metadata": {
    "execution": {
     "iopub.execute_input": "2023-05-09T20:46:13.931759Z",
     "iopub.status.busy": "2023-05-09T20:46:13.930746Z",
     "iopub.status.idle": "2023-05-09T20:46:13.940559Z",
     "shell.execute_reply": "2023-05-09T20:46:13.939540Z"
    },
    "papermill": {
     "duration": 0.024189,
     "end_time": "2023-05-09T20:46:13.942772",
     "exception": false,
     "start_time": "2023-05-09T20:46:13.918583",
     "status": "completed"
    },
    "tags": []
   },
   "outputs": [
    {
     "data": {
      "application/javascript": [
       "parent.postMessage({\"jupyterEvent\": \"custom.exercise_interaction\", \"data\": {\"outcomeType\": 1, \"valueTowardsCompletion\": 0.2, \"interactionType\": 1, \"questionType\": 2, \"questionId\": \"5_GetLabels\", \"learnToolsVersion\": \"0.3.4\", \"failureMessage\": \"\", \"exceptionClass\": \"\", \"trace\": \"\"}}, \"*\")"
      ],
      "text/plain": [
       "<IPython.core.display.Javascript object>"
      ]
     },
     "metadata": {},
     "output_type": "display_data"
    },
    {
     "data": {
      "text/markdown": [
       "<span style=\"color:#33cc33\">Once you have determined the labels for all of the food items, you're ready to move on to the next lesson!</span>"
      ],
      "text/plain": [
       "Once you have determined the labels for all of the food items, you're ready to move on to the next lesson!"
      ]
     },
     "metadata": {},
     "output_type": "display_data"
    }
   ],
   "source": [
    "# Get credit for completing the problem\n",
    "q5.check()"
   ]
  },
  {
   "cell_type": "markdown",
   "id": "54cc0418",
   "metadata": {
    "papermill": {
     "duration": 0.010435,
     "end_time": "2023-05-09T20:46:13.964509",
     "exception": false,
     "start_time": "2023-05-09T20:46:13.954074",
     "status": "completed"
    },
    "tags": []
   },
   "source": [
    "# Keep going\n",
    "\n",
    "Continue to the next lesson to **[learn about Python lists](https://www.kaggle.com/alexisbcook/intro-to-lists)**."
   ]
  },
  {
   "cell_type": "markdown",
   "id": "5a6293da",
   "metadata": {
    "papermill": {
     "duration": 0.010346,
     "end_time": "2023-05-09T20:46:13.985524",
     "exception": false,
     "start_time": "2023-05-09T20:46:13.975178",
     "status": "completed"
    },
    "tags": []
   },
   "source": [
    "---\n",
    "\n",
    "\n",
    "\n",
    "\n",
    "*Have questions or comments? Visit the [course discussion forum](https://www.kaggle.com/learn/intro-to-programming/discussion) to chat with other learners.*"
   ]
  }
 ],
 "metadata": {
  "kernelspec": {
   "display_name": "Python 3",
   "language": "python",
   "name": "python3"
  },
  "language_info": {
   "codemirror_mode": {
    "name": "ipython",
    "version": 3
   },
   "file_extension": ".py",
   "mimetype": "text/x-python",
   "name": "python",
   "nbconvert_exporter": "python",
   "pygments_lexer": "ipython3",
   "version": "3.10.10"
  },
  "papermill": {
   "default_parameters": {},
   "duration": 13.986642,
   "end_time": "2023-05-09T20:46:15.221156",
   "environment_variables": {},
   "exception": null,
   "input_path": "__notebook__.ipynb",
   "output_path": "__notebook__.ipynb",
   "parameters": {},
   "start_time": "2023-05-09T20:46:01.234514",
   "version": "2.4.0"
  }
 },
 "nbformat": 4,
 "nbformat_minor": 5
}
